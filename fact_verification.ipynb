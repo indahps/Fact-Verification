{
 "cells": [
  {
   "cell_type": "code",
   "execution_count": 146,
   "metadata": {},
   "outputs": [],
   "source": [
    "#!/usr/bin/env python3\n",
    "# -*- coding: utf-8 -*-\n",
    "import xapian\n",
    "import nltk\n",
    "import os\n",
    "import io\n",
    "from zipfile import ZipFile\n",
    "import shutil\n",
    "import csv\n",
    "import re\n",
    "import pandas as pd\n",
    "import numpy as np\n",
    "import json\n",
    "import spacy \n",
    "import en_core_web_lg\n",
    "from nltk.tokenize import word_tokenize\n",
    "from nltk.tag import pos_tag\n",
    "from nltk.chunk import ne_chunk\n",
    "from nltk.corpus import stopwords\n",
    "from nltk.chunk import conlltags2tree, tree2conlltags\n",
    "from collections import defaultdict\n",
    "from collections import Counter\n",
    "from sklearn.feature_extraction import DictVectorizer\n",
    "from sklearn.feature_extraction.text import CountVectorizer\n",
    "from sklearn.metrics.pairwise import cosine_similarity\n",
    "lemmatizer = nltk.stem.wordnet.WordNetLemmatizer()\n",
    "vectorizer = DictVectorizer()\n",
    "nlp_large = en_core_web_lg.load() \n",
    "\n",
    "import en_vectors_web_lg\n",
    "nlpvec = en_vectors_web_lg.load() \n"
   ]
  },
  {
   "cell_type": "code",
   "execution_count": 366,
   "metadata": {},
   "outputs": [
    {
     "name": "stderr",
     "output_type": "stream",
     "text": [
      "/Users/indah/anaconda3/lib/python3.7/site-packages/sklearn/externals/joblib/__init__.py:15: DeprecationWarning: sklearn.externals.joblib is deprecated in 0.21 and will be removed in 0.23. Please import this functionality directly from joblib, which can be installed with: pip install joblib. If this warning is raised when loading pickled models, you may need to re-serialize those models with scikit-learn 0.21+.\n",
      "  warnings.warn(msg, category=DeprecationWarning)\n"
     ]
    }
   ],
   "source": [
    "from sklearn.feature_extraction import DictVectorizer\n",
    "from sklearn.feature_extraction.text import CountVectorizer\n",
    "from sklearn.metrics.pairwise import cosine_similarity\n",
    "from sklearn.metrics import accuracy_score, classification_report\n",
    "from sklearn.neural_network import MLPClassifier\n",
    "from sklearn.externals import joblib\n",
    "from joblib import dump, load"
   ]
  },
  {
   "cell_type": "code",
   "execution_count": null,
   "metadata": {},
   "outputs": [],
   "source": [
    "\n",
    "dbpath = \"index_V6_nostop\"\n",
    "\n",
    "print(\"### GET TRAINING DATA ###\")\n",
    "\n",
    "train_path = os.path.join(os.path.dirname(os.path.realpath('__file__')), \"train.json\")\n",
    "with open(train_path) as json_file:  \n",
    "    train = json.load(json_file)\n",
    "\n",
    "rowid = list(train.keys())\n",
    "claim = []\n",
    "label = []\n",
    "evidence = []\n",
    "for idx in rowid:\n",
    "    claim.append(train[idx]['claim'])\n",
    "    label.append(train[idx]['label'])\n",
    "    evidence.append(train[idx]['evidence'])\n",
    "    \n",
    "len_claim = len(claim)    \n",
    "\n",
    "print(\"training set:\",len_claim)\n",
    "\n",
    "print(\"### CONNECT TO INDEX ###\")\n",
    "\n",
    "def getstopper():\n",
    "    stopper = xapian.SimpleStopper()\n",
    "    for s in stopwords.words('english'):\n",
    "        stopper.add(s)\n",
    "    return stopper\n",
    "\n",
    "def get_doc_id(match):\n",
    "    for term in match.document.termlist():\n",
    "        term = term.term.decode(\"utf-8\") \n",
    "        m = re.match(\"Q(.*)\", term)\n",
    "        if m:\n",
    "            return m[1]\n",
    "    return None\n",
    "\n",
    "# Prepare enquiry object\n",
    "\n",
    "# Open the database we're going to search.\n",
    "db = xapian.Database(dbpath)\n",
    "\n",
    "# Set up a QueryParser with a stemmer and suitable prefixes\n",
    "queryparser = xapian.QueryParser()\n",
    "queryparser.set_stemmer(xapian.Stem(\"en\"))\n",
    "queryparser.set_stemming_strategy(queryparser.STEM_SOME)\n",
    "queryparser.set_stopper(getstopper())\n",
    "queryparser.add_prefix('keywords', 'K')\n",
    "\n",
    "# Use an Enquire object on the database to run the query\n",
    "enquire = xapian.Enquire(db)\n",
    "\n",
    "def get_match(query,pagesize):\n",
    "    query = queryparser.parse_query(query)\n",
    "    enquire.set_query(query)\n",
    "    matches = enquire.get_mset(0, pagesize)\n",
    "\n",
    "    query_results = []\n",
    "    #doc_title = []\n",
    "    for match in matches:\n",
    "        result = dict(\n",
    "            found_doc = get_doc_id(match),\n",
    "            rank = match.rank + 1, \n",
    "            percent = match.percent,\n",
    "            weight = match.weight,\n",
    "            docid = match.docid,\n",
    "            text = match.document.get_data()\n",
    "        )\n",
    "        query_results.append(result)\n",
    "        #doc_title.append(get_doc_id(match))\n",
    "    return query_results #, doc_title\n",
    "\n",
    "print(\"### NORMALIZATION ###\")\n",
    "    \n",
    "def replace_punctuation(sentence):\n",
    "    text = re.sub(r\"(-LRB-|-LSB-|-RSB-|-RRB-|-COLON-|-lrb-|-lsb-|-rsb-|-rrb-|-colon-|``|'')*\", \"\", sentence)\n",
    "    text = re.sub(r\"[`']+\", \" \", text)\n",
    "    text = re.sub(r\"[.,:;]*\", \"\", text)\n",
    "    text = text.replace(\"_\",\" \")\n",
    "    text = text.replace(\"\\\\n\",\"\")\n",
    "    text = text.strip()\n",
    "    return text\n",
    "\n",
    "def get_entity(document):\n",
    "    doc = nlp_large(document)\n",
    "    combine_entity = ''\n",
    "    for entity in doc.ents:\n",
    "        combine_entity = combine_entity + ' ' + str(entity)\n",
    "    return combine_entity.strip()\n",
    "\n",
    "def remove_stopwords(wordlist):\n",
    "    filtered = [w for w in wordlist if w not in stopwords.words('english')]\n",
    "    return filtered\n",
    "\n",
    "def lemmatize(word):\n",
    "    lemma = lemmatizer.lemmatize(word,'v')\n",
    "    if lemma == word:\n",
    "        lemma = lemmatizer.lemmatize(word,'n')\n",
    "    return lemma  \n",
    "\n",
    "def normalize_counter(document):  \n",
    "    entities = get_entity(document)\n",
    "    combine = document + ' ' + entities\n",
    "    filtered = nltk.word_tokenize(combine)\n",
    "    #filtered = remove_stopwords(filtered)\n",
    "    for i in range(len(filtered)):\n",
    "         filtered[i] = lemmatize(filtered[i].lower())\n",
    "    word_counter = Counter(filtered)\n",
    "    return word_counter \n",
    "\n",
    "def get_entity_list(document):\n",
    "    doc = nlp_large(document)\n",
    "    combine_entity = set()\n",
    "    for entity in doc.ents:\n",
    "        combine_entity.add(str(entity).lower().strip())\n",
    "    return list(combine_entity)\n",
    "\n",
    "def capital(text):\n",
    "    result = re.findall(r\"[A-Z][\\S]+\", text)\n",
    "    result = [w.lower() for w in result]\n",
    "    return result\n",
    "\n",
    "def entity_capital(text):\n",
    "    text = replace_punctuation(text)\n",
    "    entities = get_entity_list(text)\n",
    "    capitals = capital(text)\n",
    "    entities.extend(capitals)\n",
    "    entities = set(entities)\n",
    "    entities = remove_stopwords(entities)\n",
    "    return entities\n",
    "\n",
    "def document_entities(result):\n",
    "    docid = result['found_doc']\n",
    "    pattern = re.compile(r\"(\"+docid+\"\\s\\d+\\s)\")\n",
    "    doc = result['text'].decode(\"utf-8\")\n",
    "    doc = replace_punctuation(doc)\n",
    "    doc = re.sub(pattern,\"\",doc)\n",
    "    doc_entities = entity_capital(doc)\n",
    "    return doc_entities\n",
    "\n",
    "def intersection(list1, list2): \n",
    "    list3 = [value for value in list1 if value in list2] \n",
    "    return len(list3) \n",
    "\n",
    "def similarity_list(claim, wiki):     \n",
    "    claim_wiki = [' '.join(claim).strip(),' '.join(wiki).strip()]\n",
    "    vectorizer = CountVectorizer(claim_wiki)\n",
    "    try:\n",
    "        vectorizer.fit(claim_wiki)\n",
    "        vectors = [vector for vector in vectorizer.transform(claim_wiki).toarray()]\n",
    "        similarity = cosine_similarity(vectors)[1][0]\n",
    "    except:\n",
    "        similarity = 0\n",
    "    return similarity\n"
   ]
  },
  {
   "cell_type": "code",
   "execution_count": 170,
   "metadata": {},
   "outputs": [],
   "source": [
    "def get_doc_match(doc_list, pagesize):\n",
    "    #Search within selected document list\n",
    "    #claim_text =\"Nacional\"\n",
    "    #doc_list = [\"C.D._Nacional\"]#\"Robert_J.O'Neill-LRB-U.S._Navy_SEAL-RRB-\"]#'1994–95_Venezuelan_Primera_División_season','Lara_Croft-COLON-_Tomb_Raider']\n",
    "    qp = xapian.QueryParser()\n",
    "    \n",
    "    doc_queries = ['Q{}'.format(rated) for rated in doc_list] #this could to ensure the exact full id text is taken\n",
    "    doc_query = xapian.Query(xapian.Query.OP_OR, doc_queries)\n",
    "    #print(doc_query)\n",
    "    # setup the enquire object to perform the query\n",
    "    #enq = xapian.Enquire(db)\n",
    "    # set the weighting model for ranking\n",
    "    #enq.set_weighting_scheme(xapian.BM25Weight())\n",
    "    #enq.set_weighting_scheme(xapian.TfIdfWeight())\n",
    "    enquire.set_query(doc_query)\n",
    "\n",
    "    # iterate through the matched set and display the stored json dup\n",
    "    #print(\"Doc Level Results:\\n\")\n",
    "    #enquire.set_query(query)\n",
    "    matches = enquire.get_mset(0, pagesize)\n",
    "    \n",
    "    query_results = []\n",
    "    doc_title = []\n",
    "    for match in matches:\n",
    "        result = dict(\n",
    "            found_doc = get_doc_id(match),\n",
    "            rank = match.rank + 1, \n",
    "            percent = match.percent,\n",
    "            weight = match.weight,\n",
    "            docid = match.docid,\n",
    "            text = match.document.get_data()\n",
    "        )\n",
    "        query_results.append(result)\n",
    "    return query_results\n",
    "\n"
   ]
  },
  {
   "cell_type": "code",
   "execution_count": 95,
   "metadata": {},
   "outputs": [
    {
     "name": "stderr",
     "output_type": "stream",
     "text": [
      "/Users/indah/anaconda3/lib/python3.7/site-packages/sklearn/utils/linear_assignment_.py:21: DeprecationWarning: The linear_assignment_ module is deprecated in 0.21 and will be removed from 0.23. Use scipy.optimize.linear_sum_assignment instead.\n",
      "  DeprecationWarning)\n",
      "Did not use initialization regex that was passed: .*token_embedder_tokens\\._projection.*weight\n"
     ]
    }
   ],
   "source": [
    "import os\n",
    "os.environ['KMP_DUPLICATE_LIB_OK']='True'\n",
    "from allennlp.predictors.predictor import Predictor\n",
    "predictor = Predictor.from_path(\"https://s3-us-west-2.amazonaws.com/allennlp/models/decomposable-attention-elmo-2018.02.19.tar.gz\")\n"
   ]
  },
  {
   "cell_type": "code",
   "execution_count": 158,
   "metadata": {},
   "outputs": [],
   "source": [
    "def textual_entailment(claim,wiki):\n",
    "    te = predictor.predict(claim,wiki)\n",
    "    if te['label_probs'][0] > 0.5:\n",
    "        print(\"SUPPORT:\", te['label_probs'][0])\n",
    "        return 'SUPPORTS'\n",
    "    elif te['label_probs'][1] > 0.5:\n",
    "        print('REFUTES:', te['label_probs'][1])\n",
    "        return 'REFUTES'\n",
    "    else:\n",
    "        print('NOT ENOUGH INFO:', te['label_probs'][2])\n",
    "        return 'NOT ENOUGH INFO'"
   ]
  },
  {
   "cell_type": "code",
   "execution_count": 148,
   "metadata": {},
   "outputs": [],
   "source": [
    "def replace_punctuation_old(sentence):\n",
    "    #text = sentence.decode(\"utf-8\").lower()\n",
    "    text = re.sub(r\"(-LRB-|-LSB-|-RSB-|-RRB-|-COLON-|-lrb-|-lsb-|-rsb-|-rrb-|-colon-)*\", \"\", sentence)\n",
    "    text = re.sub(r\"[.,:;`']*\", \"\", text)\n",
    "    text = text.replace(\"\\\\n\",\"\")\n",
    "    return text\n",
    "def replace_punctuation(sentence):\n",
    "    text = re.sub(r\"(-LRB-|-LSB-|-RSB-|-RRB-|-COLON-|-lrb-|-lsb-|-rsb-|-rrb-|-colon-|``|'')*\", \"\", sentence)\n",
    "    text = re.sub(r\"[`']+\", \" \", text)\n",
    "    text = re.sub(r\"[.,:;]*\", \"\", text)\n",
    "    text = text.replace(\"_\",\" \")\n",
    "    text = text.replace(\"\\\\n\",\"\")\n",
    "    text = text.strip()\n",
    "    return text\n",
    "\n",
    "def get_entity(document):\n",
    "    doc = nlp_large(document)\n",
    "    combine_entity = ''\n",
    "    for entity in doc.ents:\n",
    "        combine_entity = combine_entity + ' ' + str(entity)\n",
    "    return combine_entity.strip()\n",
    "\n",
    "def get_entity_list(document):\n",
    "    doc = nlp_large(document)\n",
    "    combine_entity = set()\n",
    "    entity = [str(ent.text).lower().strip() for ent in doc.ents]\n",
    "    combine_entity = set(entity)\n",
    "    return list(combine_entity)\n",
    "\n",
    "def remove_stopwords(wordlist):\n",
    "    filtered = [w for w in wordlist if w not in stopwords.words('english')]\n",
    "    return filtered\n",
    "\n",
    "def lemmatize(word):\n",
    "    lemma = lemmatizer.lemmatize(word,'v')\n",
    "    if lemma == word:\n",
    "        lemma = lemmatizer.lemmatize(word,'n')\n",
    "    return lemma  \n",
    "\n",
    "def normalize_counter(document):  \n",
    "    entities = get_entity(document)\n",
    "    combine = document + ' ' + entities\n",
    "    filtered = nltk.word_tokenize(combine)\n",
    "    #tokenize and remove stop words\n",
    "    filtered = remove_stopwords(filtered)\n",
    "    for i in range(len(filtered)):\n",
    "         filtered[i] = lemmatize(filtered[i].lower())\n",
    "    word_counter = Counter(filtered)\n",
    "    return word_counter \n",
    "\n",
    "def get_match2(query,pagesize):\n",
    "    query = queryparser.parse_query(query)\n",
    "    enquire.set_query(query)\n",
    "    matches = enquire.get_mset(0, pagesize)\n",
    "    \n",
    "    query_results = []\n",
    "    doc_title = []\n",
    "    for match in matches:\n",
    "        result = dict(\n",
    "            found_doc = get_doc_id(match),\n",
    "            rank = match.rank + 1, \n",
    "            percent = match.percent,\n",
    "            weight = match.weight,\n",
    "            docid = match.docid,\n",
    "            text = match.document.get_data()\n",
    "        )\n",
    "        query_results.append(result)\n",
    "        doc_title.append(get_doc_id(match))\n",
    "    return query_results , doc_title\n",
    "\n",
    "def similarity(claim, wiki):     \n",
    "    claim_wiki = [claim,wiki]\n",
    "    vectorizer = CountVectorizer(claim_wiki)\n",
    "    try:\n",
    "        vectorizer.fit(claim_wiki)\n",
    "        vectors = [vector for vector in vectorizer.transform(claim_wiki).toarray()]\n",
    "        similarity = cosine_similarity(vectors)[1][0]\n",
    "    except:\n",
    "        similarity = 0\n",
    "    return similarity\n",
    "\n",
    "\n",
    "def get_text_embedding(text):\n",
    "    return nlpvec(text).vector\n",
    "\n",
    "def get_te_scores(claim, text):\n",
    "    prediction = predictor.predict(\n",
    "       hypothesis = claim,\n",
    "       premise = text\n",
    "    )\n",
    "        \n",
    "    ContradictionScore = prediction['label_probs'][0]\n",
    "    EntailmentScore = prediction['label_probs'][1]\n",
    "    NeutralScore = prediction['label_probs'][2]\n",
    "    return ContradictionScore, EntailmentScore, NeutralScore\n",
    "    \n",
    "def get_sent_similarity(claim, text):\n",
    "    clm = nlpvec(claim)\n",
    "    sent = nlpvec(text)\n",
    "    return clm.similarity(sent)\n"
   ]
  },
  {
   "cell_type": "code",
   "execution_count": 298,
   "metadata": {},
   "outputs": [],
   "source": [
    "def get_nouns(document):\n",
    "    doc = nlp_large(document)\n",
    "    combine_noun = set()\n",
    "    noun = [str(noun).lower().replace(\" \",\"_\").strip() for noun in doc.noun_chunks]\n",
    "    combine_noun = set(noun)\n",
    "    return ' '.join(combine_noun)\n",
    "\n",
    "def get_entity_similarity(claim, text):\n",
    "    clm = get_entity(claim)\n",
    "    sent = get_entity(text)\n",
    "    return get_sent_similarity(clm,sent)\n",
    "\n",
    "def get_noun_similarity(claim, text):\n",
    "    clm = get_nouns(claim)\n",
    "    sent = get_nouns(text)\n",
    "    return get_sent_similarity(clm,sent)"
   ]
  },
  {
   "cell_type": "code",
   "execution_count": null,
   "metadata": {},
   "outputs": [],
   "source": [
    "%%time\n",
    "incomplete_claim2 = set()\n",
    "document_not_found2 = set()\n",
    "# features = defaultdict(Counter)\n",
    "# claim_embed = dict()\n",
    "# evidences_embed = dict()\n",
    "# conta_score = dict()\n",
    "# ent_score = dict()\n",
    "# nut_core  = dict()\n",
    "# similarity_score = dict()\n",
    "entity_similarity_score = dict()\n",
    "noun_similarity_score = dict()\n",
    "\n",
    "# features_path = os.path.join(os.path.dirname(os.path.realpath('__file__')), \"features1.json\")\n",
    "# claim_embed_path = os.path.join(os.path.dirname(os.path.realpath('__file__')), \"claim_embed.json\")\n",
    "# evidences_embed_path = os.path.join(os.path.dirname(os.path.realpath('__file__')), \"evidences_embed.json\")\n",
    "# conta_score_path = os.path.join(os.path.dirname(os.path.realpath('__file__')), \"conta_score.json\")\n",
    "# ent_score_path = os.path.join(os.path.dirname(os.path.realpath('__file__')), \"ent_score.json\")\n",
    "# nut_core_path = os.path.join(os.path.dirname(os.path.realpath('__file__')), \"nut_core.json\")\n",
    "# similarity_score_path = os.path.join(os.path.dirname(os.path.realpath('__file__')), \"similarity_score.json\")\n",
    "entity_similarity_path = os.path.join(os.path.dirname(os.path.realpath('__file__')), \"entity_similarity_score.json\")\n",
    "noun_similarity_path = os.path.join(os.path.dirname(os.path.realpath('__file__')), \"noun_similarity_score.json\")\n",
    "\n",
    "\n",
    "for i in range(len(tclaim)):\n",
    "    norm_claim = replace_punctuation(tclaim[i]).lower()\n",
    "    norm_text = ''\n",
    "    for j in range(len(tevidence[i])):\n",
    "        evidence_id = tevidence[i][j][0]#.lower()\n",
    "        #fetch from xapian the document matching the evidence name\n",
    "        #print(\"get_doc_match([evidence_id],1)\",[evidence_id])\n",
    "        results = get_doc_match([evidence_id],1)\n",
    "        evidence_id = evidence_id.lower()\n",
    "        #print(evidence_id)\n",
    "        #print(\"---------\")\n",
    "        #print(i, evidence[i], results[0]['found_doc'].lower())\n",
    "        if results != []:\n",
    "            #make sure the document found matches the evidence we picked from training set\n",
    "            if evidence_id == results[0]['found_doc'].lower():\n",
    "                #get sentence Id from traning set\n",
    "                evidence_sent = str(tevidence[i][j][1])\n",
    "                sentence_id = evidence_id + ' ' + evidence_sent\n",
    "                #take sentence text from xapian for selected doc\n",
    "                text = results[0]['text'].decode(\"utf-8\").lower()\n",
    "                #print(\"full text\",text)\n",
    "                index = text.find(sentence_id)\n",
    "                if index != -1:\n",
    "                    lenid = len(sentence_id)\n",
    "                    if text[index+lenid:].find(evidence_id) != -1:\n",
    "                        textsplit = replace_punctuation(text[index+lenid:].split(evidence_id, maxsplit=1)[0])  \n",
    "                    else:\n",
    "                        textsplit = replace_punctuation(text[index+lenid:])\n",
    "                    norm_text += textsplit + ' '\n",
    "                    #print(\"???>>>textsplit\",textsplit)\n",
    "                    combine = norm_claim + ' ' + textsplit\n",
    "                    counter_combine = normalize_counter(combine)\n",
    "\n",
    "                    features[i].update(counter_combine)\n",
    "\n",
    "                else:\n",
    "                    document_not_found2.add(evidence_id)\n",
    "                    incomplete_claim2.add(i)      \n",
    "            else:\n",
    "                document_not_found2.add(evidence_id)\n",
    "                incomplete_claim2.add(i)\n",
    "        else:\n",
    "            document_not_found2.add(evidence_id)\n",
    "            incomplete_claim2.add(i)\n",
    "\n",
    "\n",
    "    #TODO here extract featrues at claim level\n",
    "#         print(\"||||norm_claim\",norm_claim)\n",
    "#         print(\"||||norm_text\",norm_text,\"\\n\\n\")\n",
    "#     claim_embed[i] = get_text_embedding(norm_claim)\n",
    "#     evidences_embed[i] = get_text_embedding(norm_text)\n",
    "#     cont_score, e_score, n_core = get_te_scores(norm_claim, norm_text)\n",
    "#     conta_score[i] = cont_score\n",
    "#     ent_score[i] = e_score\n",
    "#     nut_core[i] = n_core\n",
    "#     sim = get_sent_similarity(norm_claim, norm_text)\n",
    "#     similarity_score[i] = sim\n",
    "    \n",
    "    entity_similarity_score[i] = get_entity_similarity(norm_claim, norm_text)\n",
    "    noun_similarity_score[i] = get_noun_similarity(norm_claim, norm_text)        \n",
    "    print(i, entity_similarity_score[i], noun_similarity_score[i])\n",
    "        \n",
    "#         print(\"||||similarity_score\",similarity_score[i])\n",
    "#         print(\"||||NLPSCORE\",cont_score, e_score, n_core)\n",
    "#         print(\"|||Label\",tlabel[i])\n",
    "#         print(\"|||evidence\",tevidence[i])\n",
    "#         print(\"||||||||||||||||||||||||||||||||||\")\n",
    "\n",
    "with open(features_path, 'w') as outfile:\n",
    "    json.dump(features, outfile)\n",
    "with open(claim_embed_path, 'w') as outfile:\n",
    "    json.dump(claim_embed, outfile)\n",
    "with open(conta_score_path, 'w') as outfile:\n",
    "    json.dump(conta_score, outfile)\n",
    "with open(evidences_embed_path, 'w') as outfile:\n",
    "    json.dump(evidences_embed, outfile)\n",
    "with open(ent_score_path, 'w') as outfile:\n",
    "    json.dump(ent_score, outfile)\n",
    "with open(nut_core_path, 'w') as outfile:\n",
    "    json.dump(nut_core, outfile)\n",
    "with open(similarity_score_path, 'w') as outfile:\n",
    "    json.dump(similarity_score, outfile)\n",
    "\n",
    "with open(entity_similarity_path, 'w') as outfile:\n",
    "    json.dump(entity_similarity_score, outfile)\n",
    "with open(noun_similarity_path, 'w') as outfile:\n",
    "    json.dump(noun_similarity_score, outfile)\n",
    "    \n",
    "# doc_not_found = {}\n",
    "# for i in range(len_doc_not_found):\n",
    "#     doc_not_found[i] = document_not_found[i]\n",
    "\n",
    "# with open('doc_not_found.json', 'w') as f:\n",
    "#     json.dump(doc_not_found, f, indent = 4)"
   ]
  },
  {
   "cell_type": "markdown",
   "metadata": {},
   "source": [
    "<h2> Load All Features </h2>"
   ]
  },
  {
   "cell_type": "code",
   "execution_count": 305,
   "metadata": {},
   "outputs": [
    {
     "name": "stdout",
     "output_type": "stream",
     "text": [
      "### GET TRAINING FEATURE LIST ###\n"
     ]
    }
   ],
   "source": [
    "print(\"### GET TRAINING FEATURE LIST ###\")\n",
    "      \n",
    "      \n",
    "feature_list_path = os.path.join(os.path.dirname(os.path.realpath('__file__')), \"training_features/label_features.json\")\n",
    "with open(feature_list_path) as json_file:  \n",
    "    feature_list_dict = json.load(json_file)\n",
    " "
   ]
  },
  {
   "cell_type": "code",
   "execution_count": 306,
   "metadata": {},
   "outputs": [
    {
     "data": {
      "text/plain": [
       "145449"
      ]
     },
     "execution_count": 306,
     "metadata": {},
     "output_type": "execute_result"
    }
   ],
   "source": [
    "len(feature_list_dict)"
   ]
  },
  {
   "cell_type": "code",
   "execution_count": 312,
   "metadata": {},
   "outputs": [],
   "source": [
    "trainids = list(feature_list_dict.keys())"
   ]
  },
  {
   "cell_type": "code",
   "execution_count": 358,
   "metadata": {},
   "outputs": [],
   "source": [
    "claim = []\n",
    "claim_embed = []\n",
    "entity_similarity_score = []\n",
    "evidence = []\n",
    "evidences_embed = []\n",
    "features = []\n",
    "label = []\n",
    "noun_similarity_score = []\n",
    "rowidx =[]\n",
    "similarity_score = []\n",
    "document_not_found = []\n",
    "incomplete_claim = []\n",
    "\n",
    "for i in range(len(trainids)):\n",
    "    if feature_list_dict[trainids[i]]['document_not_found'] == []:\n",
    "        claim.append(feature_list_dict[trainids[i]]['claim'])\n",
    "        claim_embed.append(feature_list_dict[trainids[i]]['claim_embed'])\n",
    "        entity_similarity_score.append(feature_list_dict[trainids[i]]['entity_similarity_score'])\n",
    "        evidence.append(feature_list_dict[trainids[i]]['evidence'])    \n",
    "        evidences_embed.append(feature_list_dict[trainids[i]]['evidences_embed'])\n",
    "        features.append(feature_list_dict[trainids[i]]['features'])\n",
    "        label.append(feature_list_dict[trainids[i]]['label'])  \n",
    "        noun_similarity_score.append(feature_list_dict[trainids[i]]['noun_similarity_score'])\n",
    "        rowidx.append(feature_list_dict[trainids[i]]['rowidx'])\n",
    "        similarity_score.append(feature_list_dict[trainids[i]]['similarity_score'])   \n",
    "        document_not_found.append(feature_list_dict[trainids[i]]['document_not_found'])\n",
    "        incomplete_claim.append(feature_list_dict[trainids[i]]['incomplete_claim'])"
   ]
  },
  {
   "cell_type": "code",
   "execution_count": 359,
   "metadata": {},
   "outputs": [
    {
     "data": {
      "text/plain": [
       "144227"
      ]
     },
     "execution_count": 359,
     "metadata": {},
     "output_type": "execute_result"
    }
   ],
   "source": [
    "len(claim)"
   ]
  },
  {
   "cell_type": "code",
   "execution_count": 360,
   "metadata": {},
   "outputs": [],
   "source": [
    "claim_embed_array = np.array(claim_embed)\n",
    "evidences_embed_array = np.array(evidences_embed)\n",
    "entity_similarity_score_array = np.array(entity_similarity_score)\n",
    "entity_similarity_score_array.resize((len(entity_similarity_score_array), 1))\n",
    "noun_similarity_score_array = np.array(noun_similarity_score)\n",
    "noun_similarity_score_array.resize((len(noun_similarity_score_array), 1))\n",
    "similarity_score_array = np.array(similarity_score)\n",
    "similarity_score_array.resize((len(similarity_score_array), 1))\n",
    "feature_combine = np.concatenate((claim_embed_array,evidences_embed_array), axis=1)\n",
    "feature_combine = np.concatenate((feature_combine,entity_similarity_score_array), axis=1)\n",
    "feature_combine = np.concatenate((feature_combine,noun_similarity_score_array), axis=1)\n",
    "feature_combine = np.concatenate((feature_combine,similarity_score_array), axis=1)\n"
   ]
  },
  {
   "cell_type": "code",
   "execution_count": 362,
   "metadata": {},
   "outputs": [
    {
     "data": {
      "text/plain": [
       "Counter({'SUPPORTS': 79145, 'REFUTES': 29443, 'NOT ENOUGH INFO': 35639})"
      ]
     },
     "execution_count": 362,
     "metadata": {},
     "output_type": "execute_result"
    }
   ],
   "source": [
    "Counter(label)"
   ]
  },
  {
   "cell_type": "code",
   "execution_count": 363,
   "metadata": {},
   "outputs": [
    {
     "name": "stdout",
     "output_type": "stream",
     "text": [
      "### RANDOM LIST ###\n"
     ]
    }
   ],
   "source": [
    "print(\"### RANDOM LIST ###\")\n",
    "          \n",
    "    \n",
    "import random\n",
    "\n",
    "training_set = feature_combine[:140000]\n",
    "training_label = label[:140000]\n",
    "heldout_set = feature_combine[140000:]\n",
    "heldout_label = label[140000:]\n"
   ]
  },
  {
   "cell_type": "code",
   "execution_count": 370,
   "metadata": {},
   "outputs": [],
   "source": [
    "from sklearn.datasets import make_classification\n",
    "from imblearn.over_sampling import RandomOverSampler\n",
    "from imblearn.under_sampling import RandomUnderSampler"
   ]
  },
  {
   "cell_type": "code",
   "execution_count": 371,
   "metadata": {},
   "outputs": [],
   "source": [
    "oversampling = RandomOverSampler(random_state=0)\n",
    "X_oversampling, y_oversampling = oversampling.fit_resample(training_set, training_label)\n"
   ]
  },
  {
   "cell_type": "code",
   "execution_count": 372,
   "metadata": {},
   "outputs": [],
   "source": [
    "undersampling = RandomUnderSampler(random_state=0)\n",
    "X_undersampling, y_undersampling = undersampling.fit_resample(training_set, training_label)\n"
   ]
  },
  {
   "cell_type": "code",
   "execution_count": 373,
   "metadata": {},
   "outputs": [
    {
     "name": "stdout",
     "output_type": "stream",
     "text": [
      "y_oversampling: Counter({'SUPPORTS': 76835, 'REFUTES': 76835, 'NOT ENOUGH INFO': 76835})\n",
      "y_undersampling: Counter({'NOT ENOUGH INFO': 28553, 'REFUTES': 28553, 'SUPPORTS': 28553})\n"
     ]
    }
   ],
   "source": [
    "print(\"y_oversampling:\",Counter(y_oversampling))\n",
    "print(\"y_undersampling:\",Counter(y_undersampling))"
   ]
  },
  {
   "cell_type": "code",
   "execution_count": 364,
   "metadata": {},
   "outputs": [
    {
     "data": {
      "text/plain": [
       "Counter({'SUPPORTS': 76835, 'REFUTES': 28553, 'NOT ENOUGH INFO': 34612})"
      ]
     },
     "execution_count": 364,
     "metadata": {},
     "output_type": "execute_result"
    }
   ],
   "source": [
    "Counter(training_label)"
   ]
  },
  {
   "cell_type": "code",
   "execution_count": 374,
   "metadata": {
    "scrolled": true
   },
   "outputs": [
    {
     "name": "stdout",
     "output_type": "stream",
     "text": [
      "### MLP Classifier 2 hidden layers 10 nodes & 5 nodes ###\n",
      "0.7617695765318192\n",
      "{'NOT ENOUGH INFO': {'precision': 0.9273584905660377, 'recall': 0.9571567672833495, 'f1-score': 0.9420220412074749, 'support': 1027}, 'REFUTES': {'precision': 0.48524844720496896, 'recall': 0.702247191011236, 'f1-score': 0.573921028466483, 'support': 890}, 'SUPPORTS': {'precision': 0.8579031399680681, 'recall': 0.6978354978354978, 'f1-score': 0.7696347576987348, 'support': 2310}, 'accuracy': 0.7617695765318192, 'macro avg': {'precision': 0.7568366925796916, 'recall': 0.7857464853766944, 'f1-score': 0.7618592757908975, 'support': 4227}, 'weighted avg': {'precision': 0.7963152451265627, 'recall': 0.7617695765318192, 'f1-score': 0.7703105374826884, 'support': 4227}}\n"
     ]
    }
   ],
   "source": [
    "print(\"### MLP Classifier 1 hidden layers 300 nodes actual proportion ###\")\n",
    "\n",
    "clf_ = MLPClassifier(solver='lbfgs', alpha=1e-5,hidden_layer_sizes=(300), random_state=1)\n",
    "clf.fit(X_undersampling, y_undersampling) \n",
    "\n",
    "predictions = clf.predict(heldout_set)\n",
    "\n",
    "print(accuracy_score(heldout_label,predictions))\n",
    "results = classification_report(heldout_label,predictions,  output_dict=True)\n",
    "\n",
    "print(results)"
   ]
  },
  {
   "cell_type": "code",
   "execution_count": 377,
   "metadata": {
    "scrolled": true
   },
   "outputs": [
    {
     "data": {
      "text/plain": [
       "['MLPClassifier_300_undersampling.joblib']"
      ]
     },
     "execution_count": 377,
     "metadata": {},
     "output_type": "execute_result"
    }
   ],
   "source": [
    "dump(clf, 'MLPClassifier_300_undersampling.joblib') "
   ]
  },
  {
   "cell_type": "code",
   "execution_count": 378,
   "metadata": {},
   "outputs": [],
   "source": [
    "MLPClassifier_300_undersampling = load('MLPClassifier_300_undersampling.joblib') "
   ]
  },
  {
   "cell_type": "code",
   "execution_count": 407,
   "metadata": {
    "scrolled": true
   },
   "outputs": [
    {
     "name": "stdout",
     "output_type": "stream",
     "text": [
      "### MLP Classifier 1 hidden layers 300 nodes oversampling ###\n",
      "0.7892122072391767\n",
      "{'NOT ENOUGH INFO': {'precision': 0.9403409090909091, 'recall': 0.9668938656280428, 'f1-score': 0.9534325492078731, 'support': 1027}, 'REFUTES': {'precision': 0.5259067357512953, 'recall': 0.6842696629213483, 'f1-score': 0.5947265625, 'support': 890}, 'SUPPORTS': {'precision': 0.8614008941877794, 'recall': 0.7506493506493507, 'f1-score': 0.8022206800832754, 'support': 2310}, 'accuracy': 0.7892122072391767, 'macro avg': {'precision': 0.7758828463433279, 'recall': 0.8006042930662473, 'f1-score': 0.7834599305970494, 'support': 4227}, 'weighted avg': {'precision': 0.8099416072933018, 'recall': 0.7892122072391767, 'f1-score': 0.7952712655911643, 'support': 4227}}\n"
     ]
    }
   ],
   "source": [
    "print(\"### MLP Classifier 1 hidden layers 300 nodes oversampling ###\")\n",
    "\n",
    "clf_os = MLPClassifier(solver='lbfgs', alpha=1e-5,hidden_layer_sizes=(300), random_state=1)\n",
    "clf_os.fit(X_oversampling, y_oversampling) \n",
    "\n",
    "predictions_os = clf_os.predict(heldout_set)\n",
    "\n",
    "print(accuracy_score(heldout_label,predictions_os))\n",
    "results_os = classification_report(heldout_label,predictions_os,  output_dict=True)\n",
    "\n",
    "print(results_os)"
   ]
  },
  {
   "cell_type": "code",
   "execution_count": 408,
   "metadata": {},
   "outputs": [
    {
     "data": {
      "text/plain": [
       "['MLPClassifier_300_oversampling.joblib']"
      ]
     },
     "execution_count": 408,
     "metadata": {},
     "output_type": "execute_result"
    }
   ],
   "source": [
    "dump(clf_os, 'MLPClassifier_300_oversampling.joblib') "
   ]
  },
  {
   "cell_type": "code",
   "execution_count": 409,
   "metadata": {},
   "outputs": [],
   "source": [
    "MLPClassifier_300_oversampling = load('MLPClassifier_300_oversampling.joblib') "
   ]
  },
  {
   "cell_type": "code",
   "execution_count": 412,
   "metadata": {},
   "outputs": [
    {
     "name": "stdout",
     "output_type": "stream",
     "text": [
      "### MLP Classifier 1 hidden layers 300 nodes actual proportion ###\n",
      "0.827064111663118\n",
      "{'NOT ENOUGH INFO': {'precision': 0.95274831243973, 'recall': 0.9620253164556962, 'f1-score': 0.9573643410852714, 'support': 1027}, 'REFUTES': {'precision': 0.7091932457786116, 'recall': 0.4247191011235955, 'f1-score': 0.5312719606465215, 'support': 890}, 'SUPPORTS': {'precision': 0.8016560030109146, 'recall': 0.922077922077922, 'f1-score': 0.8576605596939803, 'support': 2310}, 'accuracy': 0.827064111663118, 'macro avg': {'precision': 0.8211991870764187, 'recall': 0.7696074465524045, 'f1-score': 0.7820989538085911, 'support': 4227}, 'weighted avg': {'precision': 0.8188975331378707, 'recall': 0.827064111663118, 'f1-score': 0.8131632638190377, 'support': 4227}}\n"
     ]
    }
   ],
   "source": [
    "print(\"### MLP Classifier 1 hidden layers 300 nodes actual proportion ###\")\n",
    "\n",
    "clf_ap = MLPClassifier(solver='lbfgs', alpha=1e-5,hidden_layer_sizes=(300), random_state=1)\n",
    "clf_ap.fit(training_set, training_label) \n",
    "\n",
    "predictions_ap = clf_ap.predict(heldout_set)\n",
    "\n",
    "print(accuracy_score(heldout_label,predictions_ap))\n",
    "results_ap = classification_report(heldout_label,predictions_ap,  output_dict=True)\n",
    "\n",
    "print(results_ap)"
   ]
  },
  {
   "cell_type": "code",
   "execution_count": 437,
   "metadata": {},
   "outputs": [],
   "source": [
    "claim_evidence_dotproduct = []\n",
    "for i in range(len(claim_embed_array)):\n",
    "    dotproduct = claim_embed_array[i].dot(evidences_embed_array[i])\n",
    "    claim_evidence_dotproduct.append(dotproduct)"
   ]
  },
  {
   "cell_type": "code",
   "execution_count": 438,
   "metadata": {},
   "outputs": [],
   "source": [
    "claim_evidence_dotproduct_array = np.array(claim_evidence_dotproduct)\n",
    "claim_evidence_dotproduct_array.resize((len(claim_evidence_dotproduct_array), 1))"
   ]
  },
  {
   "cell_type": "code",
   "execution_count": 439,
   "metadata": {},
   "outputs": [],
   "source": [
    "feature_combine_2 = np.concatenate((claim_evidence_dotproduct_array,evidences_embed_array), axis=1)\n",
    "feature_combine_2 = np.concatenate((feature_combine_2,entity_similarity_score_array), axis=1)\n",
    "feature_combine_2 = np.concatenate((feature_combine_2,noun_similarity_score_array), axis=1)\n",
    "feature_combine_2 = np.concatenate((feature_combine_2,similarity_score_array), axis=1)\n"
   ]
  },
  {
   "cell_type": "code",
   "execution_count": 441,
   "metadata": {},
   "outputs": [
    {
     "name": "stdout",
     "output_type": "stream",
     "text": [
      "### RANDOM LIST ###\n"
     ]
    }
   ],
   "source": [
    "print(\"### RANDOM LIST ###\")\n",
    "\n",
    "combined = list(zip(feature_combine_2, label))\n",
    "random.shuffle(combined)\n",
    "feature_combine_2, label = zip(*combined)\n",
    "\n",
    "training_set2 = feature_combine_2[:140000]\n",
    "training_label2 = label[:140000]\n",
    "heldout_set2 = feature_combine_2[140000:]\n",
    "heldout_label2 = label[140000:]\n"
   ]
  },
  {
   "cell_type": "code",
   "execution_count": 443,
   "metadata": {
    "scrolled": true
   },
   "outputs": [
    {
     "name": "stdout",
     "output_type": "stream",
     "text": [
      "### MLP Classifier 1 hidden layers 300 nodes actual proportion ###\n",
      "0.7480482611781405\n",
      "{'NOT ENOUGH INFO': {'precision': 0.872791519434629, 'recall': 0.8973660308810173, 'f1-score': 0.8849081952530229, 'support': 1101}, 'REFUTES': {'precision': 0.2, 'recall': 0.001183431952662722, 'f1-score': 0.0023529411764705885, 'support': 845}, 'SUPPORTS': {'precision': 0.7032362459546926, 'recall': 0.9526523454625164, 'f1-score': 0.8091603053435114, 'support': 2281}, 'accuracy': 0.7480482611781405, 'macro avg': {'precision': 0.5920092551297739, 'recall': 0.6170672694320655, 'f1-score': 0.5654738139243349, 'support': 4227}, 'weighted avg': {'precision': 0.6468004116205773, 'recall': 0.7480482611781405, 'f1-score': 0.6676051134980471, 'support': 4227}}\n"
     ]
    }
   ],
   "source": [
    "print(\"### MLP Classifier 1 hidden layers 300 nodes actual proportion ###\")\n",
    "\n",
    "clf_ap2 = MLPClassifier(solver='lbfgs', alpha=1e-5,hidden_layer_sizes=(300), random_state=1)\n",
    "clf_ap2.fit(training_set2, training_label2) \n",
    "\n",
    "predictions_ap2 = clf_ap2.predict(heldout_set2)\n",
    "\n",
    "print(accuracy_score(heldout_label2,predictions_ap2))\n",
    "results_ap2 = classification_report(heldout_label2,predictions_ap2,  output_dict=True)\n",
    "\n",
    "print(results_ap2)"
   ]
  },
  {
   "cell_type": "code",
   "execution_count": 444,
   "metadata": {
    "scrolled": true
   },
   "outputs": [
    {
     "data": {
      "text/plain": [
       "['MLPClassifier_300_actual_similarities.joblib']"
      ]
     },
     "execution_count": 444,
     "metadata": {},
     "output_type": "execute_result"
    }
   ],
   "source": [
    "dump(clf_ap2, 'MLPClassifier_300_actual_similarities.joblib') "
   ]
  },
  {
   "cell_type": "code",
   "execution_count": 466,
   "metadata": {},
   "outputs": [
    {
     "name": "stdout",
     "output_type": "stream",
     "text": [
      "### GET DEVELOPMENT OUTPUT ###\n"
     ]
    }
   ],
   "source": [
    "print(\"### GET DEVELOPMENT OUTPUT ###\")\n",
    "      \n",
    "      \n",
    "dev_output_path = os.path.join(os.path.dirname(os.path.realpath('__file__')), \"dev_set_predictions21.json\")\n",
    "with open(dev_output_path) as json_file:  \n",
    "    dev_output = json.load(json_file)\n",
    "    \n",
    "drowid = list(dev_output.keys())\n",
    "dclaim = []\n",
    "dlabel = []\n",
    "devidence = []\n",
    "for idx in drowid:\n",
    "    dclaim.append(dev_output[idx]['claim'])\n",
    "    dlabel.append(dev_output[idx]['label'])\n",
    "    devidence.append(dev_output[idx]['evidence'])\n"
   ]
  },
  {
   "cell_type": "code",
   "execution_count": 472,
   "metadata": {},
   "outputs": [],
   "source": [
    "dclaim_embed_dict = {}\n",
    "for i in range(len(dclaim_embed)):\n",
    "    dclaim_embed_dict[i] = str(list(dclaim_embed[i]))\n",
    "with open(dclaim_embed_path, 'w') as outfile:\n",
    "    json.dump(dclaim_embed_dict, outfile, indent = 4)\n",
    "    \n",
    "devidences_embed_dict = {}\n",
    "for i in range(len(devidences_embed)):\n",
    "    devidences_embed_dict[i] = str(list(devidences_embed[i]))\n",
    "\n",
    "with open(devidences_embed_path, 'w') as outfile:\n",
    "    json.dump(devidences_embed_dict, outfile)"
   ]
  },
  {
   "cell_type": "code",
   "execution_count": 486,
   "metadata": {},
   "outputs": [],
   "source": [
    "with open(dconta_score_path, 'w') as outfile:\n",
    "    json.dump(dconta_score, outfile)"
   ]
  },
  {
   "cell_type": "code",
   "execution_count": 473,
   "metadata": {},
   "outputs": [],
   "source": [
    "\n",
    "with open(dfeatures_path, 'w') as outfile:\n",
    "    json.dump(dfeatures, outfile)\n",
    "with open(dent_score_path, 'w') as outfile:\n",
    "    json.dump(dent_score, outfile)\n",
    "with open(dnut_core_path, 'w') as outfile:\n",
    "    json.dump(dnut_core, outfile)\n",
    "with open(dsimilarity_score_path, 'w') as outfile:\n",
    "    json.dump(dsimilarity_score, outfile)\n",
    "\n",
    "with open(dentity_similarity_path, 'w') as outfile:\n",
    "    json.dump(dentity_similarity_score, outfile)\n",
    "with open(dnoun_similarity_path, 'w') as outfile:\n",
    "    json.dump(dnoun_similarity_score, outfile)"
   ]
  },
  {
   "cell_type": "code",
   "execution_count": 495,
   "metadata": {},
   "outputs": [],
   "source": [
    "df = pd.DataFrame({'entailment' : dconta_score, 'contradiction': dent_score, 'neutral':dnut_core} )"
   ]
  },
  {
   "cell_type": "code",
   "execution_count": 512,
   "metadata": {},
   "outputs": [
    {
     "data": {
      "image/png": "[encoded data removed]",
      "text/plain": [
       "<Figure size 432x180 with 1 Axes>"
      ]
     },
     "metadata": {},
     "output_type": "display_data"
    }
   ],
   "source": [
    "import seaborn as sns\n",
    "\n",
    "sns.set(rc={'figure.figsize':(6,2.5)})\n",
    "           \n",
    "# plot of 2 variables\n",
    "p1=sns.kdeplot(df['entailment'], shade=True, color=\"r\")\n",
    "p1=sns.kdeplot(df['contradiction'], shade=True, color=\"b\")\n",
    "p1=sns.kdeplot(df['neutral'], shade=True, color=\"c\")\n",
    "\n"
   ]
  },
  {
   "cell_type": "code",
   "execution_count": 508,
   "metadata": {},
   "outputs": [],
   "source": [
    "df2 = pd.DataFrame({'Embed Vector Similarity' : dsimilarity_score, 'Entities Similarity': dentity_similarity_score, 'Nouns Similarity':dnoun_similarity_score} )"
   ]
  },
  {
   "cell_type": "code",
   "execution_count": 511,
   "metadata": {},
   "outputs": [
    {
     "data": {
      "image/png": "[encoded data removed]",
      "text/plain": [
       "<Figure size 432x180 with 1 Axes>"
      ]
     },
     "metadata": {},
     "output_type": "display_data"
    }
   ],
   "source": [
    "sns.set(rc={'figure.figsize':(6,2.5)})\n",
    "           \n",
    "# plot of 2 variables\n",
    "p1=sns.kdeplot(df2['Embed Vector Similarity'], shade=True, color=\"r\")\n",
    "p1=sns.kdeplot(df2['Entities Similarity'], shade=True, color=\"b\")\n",
    "p1=sns.kdeplot(df2['Nouns Similarity'], shade=True, color=\"c\")\n"
   ]
  },
  {
   "cell_type": "code",
   "execution_count": 513,
   "metadata": {},
   "outputs": [],
   "source": [
    "dlabel_textual_entailment2 = []\n",
    "for i in range(len(dconta_score)):\n",
    "    if dconta_score[i] > 0.98 and dent_score[i] < 0.1 and dnut_core[i] < 0.1:\n",
    "        dlabel_textual_entailment2.append('SUPPORTS')\n",
    "    elif dconta_score[i] < 0.25 and dent_score[i] >= 0.5 and dnut_core[i] < 0.25:\n",
    "        dlabel_textual_entailment2.append('REFUTES')\n",
    "    else:\n",
    "        dlabel_textual_entailment2.append('NOT ENOUGH INFO')"
   ]
  },
  {
   "cell_type": "code",
   "execution_count": 548,
   "metadata": {
    "scrolled": true
   },
   "outputs": [
    {
     "data": {
      "text/plain": [
       "Counter({'NOT ENOUGH INFO': 3117, 'REFUTES': 886, 'SUPPORTS': 998})"
      ]
     },
     "execution_count": 548,
     "metadata": {},
     "output_type": "execute_result"
    }
   ],
   "source": [
    "Counter(dlabel)"
   ]
  },
  {
   "cell_type": "code",
   "execution_count": 514,
   "metadata": {
    "scrolled": true
   },
   "outputs": [
    {
     "data": {
      "text/plain": [
       "Counter({'SUPPORTS': 995, 'NOT ENOUGH INFO': 3595, 'REFUTES': 411})"
      ]
     },
     "execution_count": 514,
     "metadata": {},
     "output_type": "execute_result"
    }
   ],
   "source": [
    "Counter(dlabel_textual_entailment2)"
   ]
  },
  {
   "cell_type": "code",
   "execution_count": 515,
   "metadata": {},
   "outputs": [],
   "source": [
    "dNEI_NEI2 = 0\n",
    "dSPT_NEI2 = 0\n",
    "dRFT_NEI2 = 0\n",
    "dNEI_SPT2 = 0\n",
    "dNEI_RFT2 = 0\n",
    "dSPT_SPT2 = 0\n",
    "dRFT_RFT2 = 0\n",
    "dSPT_RFT2 = 0\n",
    "dRFT_SPT2 = 0\n",
    "dcombine_prediction2 = []\n",
    "for i in range(len(dlabel_textual_entailment2)):\n",
    "    if dlabel[i] == 'NOT ENOUGH INFO' and dlabel_textual_entailment2[i] == 'NOT ENOUGH INFO':\n",
    "        dNEI_NEI2 += 1\n",
    "        dcombine_prediction2.append(dlabel_textual_entailment2[i])\n",
    "    elif dlabel[i] == 'SUPPORTS' and dlabel_textual_entailment2[i] == 'NOT ENOUGH INFO':\n",
    "        dSPT_NEI2 += 1\n",
    "        dcombine_prediction2.append(dlabel[i])\n",
    "    elif dlabel[i] == 'REFUTES' and dlabel_textual_entailment2[i] == 'NOT ENOUGH INFO':\n",
    "        dRFT_NEI2 += 1    \n",
    "        dcombine_prediction2.append(dlabel[i])\n",
    "    elif dlabel[i] == 'NOT ENOUGH INFO' and dlabel_textual_entailment2[i] == 'SUPPORTS':\n",
    "        dNEI_SPT2 += 1\n",
    "        dcombine_prediction2.append(dlabel_textual_entailment2[i])\n",
    "    elif dlabel[i] == 'NOT ENOUGH INFO' and dlabel_textual_entailment2[i] == 'REFUTES':\n",
    "        dNEI_RFT2 += 1\n",
    "        dcombine_prediction2.append(dlabel_textual_entailment2[i])\n",
    "    elif dlabel[i] == 'SUPPORTS' and dlabel_textual_entailment2[i] == 'SUPPORTS':\n",
    "        dSPT_SPT2 += 1   \n",
    "        dcombine_prediction2.append(dlabel_textual_entailment2[i])\n",
    "    elif dlabel[i] == 'REFUTES' and dlabel_textual_entailment2[i] == 'REFUTES':\n",
    "        dRFT_RFT2 += 1      \n",
    "        dcombine_prediction2.append(dlabel_textual_entailment2[i])\n",
    "    elif dlabel[i] == 'SUPPORTS' and dlabel_textual_entailment2[i] == 'REFUTES':\n",
    "        dSPT_RFT2 += 1   \n",
    "        dcombine_prediction2.append(dlabel_textual_entailment2[i])\n",
    "    elif dlabel[i] == 'REFUTES' and dlabel_textual_entailment2[i] == 'SUPPORTS':\n",
    "        dRFT_SPT2 += 1 \n",
    "        dcombine_prediction2.append(dlabel[i])"
   ]
  },
  {
   "cell_type": "code",
   "execution_count": 516,
   "metadata": {},
   "outputs": [
    {
     "data": {
      "text/plain": [
       "Counter({'SUPPORTS': 1639, 'NOT ENOUGH INFO': 2138, 'REFUTES': 1224})"
      ]
     },
     "execution_count": 516,
     "metadata": {},
     "output_type": "execute_result"
    }
   ],
   "source": [
    "Counter(dcombine_prediction2)"
   ]
  },
  {
   "cell_type": "code",
   "execution_count": 517,
   "metadata": {},
   "outputs": [
    {
     "name": "stdout",
     "output_type": "stream",
     "text": [
      "Same NEI: 2138\n",
      "Support - NEI: 773\n",
      "Refute - NEI: 684\n",
      "NEI - Support: 689\n",
      "NEI - Refute: 290\n",
      "Same Support: 177\n",
      "Same Refute: 73\n",
      "Support - Refute: 48\n",
      "Refute - Support: 129\n"
     ]
    }
   ],
   "source": [
    "print(\"Same NEI:\",dNEI_NEI2)\n",
    "print(\"Support - NEI:\",dSPT_NEI2)\n",
    "print(\"Refute - NEI:\",dRFT_NEI2)\n",
    "print(\"NEI - Support:\", dNEI_SPT2)\n",
    "print(\"NEI - Refute:\", dNEI_RFT2)\n",
    "print(\"Same Support:\",dSPT_SPT2)\n",
    "print(\"Same Refute:\",dRFT_RFT2)\n",
    "print(\"Support - Refute:\",dSPT_RFT2)\n",
    "print(\"Refute - Support:\",dRFT_SPT2)"
   ]
  },
  {
   "cell_type": "code",
   "execution_count": 518,
   "metadata": {},
   "outputs": [
    {
     "name": "stdout",
     "output_type": "stream",
     "text": [
      "### GET ACTUAL DEVELOPMENT DATA ###\n"
     ]
    }
   ],
   "source": [
    "print(\"### GET ACTUAL DEVELOPMENT DATA ###\")\n",
    "\n",
    "adev_path = os.path.join(os.path.dirname(os.path.realpath('__file__')), \"devset.json\")\n",
    "with open(adev_path) as json_file:  \n",
    "    adevelopment = json.load(json_file)\n",
    "    \n",
    "adrowid = list(adevelopment.keys())\n",
    "adclaim = []\n",
    "adlabel = []\n",
    "adevidence = []\n",
    "for idx in adrowid:\n",
    "    adclaim.append(adevelopment[idx]['claim'])\n",
    "    adlabel.append(adevelopment[idx]['label'])\n",
    "    adevidence.append(adevelopment[idx]['evidence'])"
   ]
  },
  {
   "cell_type": "code",
   "execution_count": 519,
   "metadata": {},
   "outputs": [],
   "source": [
    "adNEI_NEI2 = 0\n",
    "adSPT_NEI2 = 0\n",
    "adRFT_NEI2 = 0\n",
    "adNEI_SPT2 = 0\n",
    "adNEI_RFT2 = 0\n",
    "adSPT_SPT2 = 0\n",
    "adRFT_RFT2 = 0\n",
    "adSPT_RFT2 = 0\n",
    "adRFT_SPT2 = 0\n",
    "adcombine_prediction2 = []\n",
    "for i in range(len(dlabel_textual_entailment2)):\n",
    "    if adlabel[i] == 'NOT ENOUGH INFO' and dlabel_textual_entailment2[i] == 'NOT ENOUGH INFO':\n",
    "        adNEI_NEI2 += 1\n",
    "    elif adlabel[i] == 'SUPPORTS' and dlabel_textual_entailment2[i] == 'NOT ENOUGH INFO':\n",
    "        adSPT_NEI2 += 1\n",
    "    elif adlabel[i] == 'REFUTES' and dlabel_textual_entailment2[i] == 'NOT ENOUGH INFO':\n",
    "        adRFT_NEI2 += 1    \n",
    "    elif adlabel[i] == 'NOT ENOUGH INFO' and dlabel_textual_entailment2[i] == 'SUPPORTS':\n",
    "        adNEI_SPT2 += 1\n",
    "    elif adlabel[i] == 'NOT ENOUGH INFO' and dlabel_textual_entailment2[i] == 'REFUTES':\n",
    "        adNEI_RFT2 += 1\n",
    "    elif adlabel[i] == 'SUPPORTS' and dlabel_textual_entailment2[i] == 'SUPPORTS':\n",
    "        adSPT_SPT2 += 1   \n",
    "    elif adlabel[i] == 'REFUTES' and dlabel_textual_entailment2[i] == 'REFUTES':\n",
    "        adRFT_RFT2 += 1      \n",
    "    elif adlabel[i] == 'SUPPORTS' and dlabel_textual_entailment2[i] == 'REFUTES':\n",
    "        adSPT_RFT2 += 1   \n",
    "    elif adlabel[i] == 'REFUTES' and dlabel_textual_entailment2[i] == 'SUPPORTS':\n",
    "        adRFT_SPT2 += 1 "
   ]
  },
  {
   "cell_type": "code",
   "execution_count": 520,
   "metadata": {},
   "outputs": [
    {
     "name": "stdout",
     "output_type": "stream",
     "text": [
      "Same NEI: 1260\n",
      "Support - NEI: 1207\n",
      "Refute - NEI: 1128\n",
      "NEI - Support: 303\n",
      "NEI - Refute: 104\n",
      "Same Support: 411\n",
      "Same Refute: 258\n",
      "Support - Refute: 49\n",
      "Refute - Support: 281\n"
     ]
    }
   ],
   "source": [
    "print(\"Same NEI:\",adNEI_NEI2)\n",
    "print(\"Support - NEI:\",adSPT_NEI2)\n",
    "print(\"Refute - NEI:\",adRFT_NEI2)\n",
    "print(\"NEI - Support:\", adNEI_SPT2)\n",
    "print(\"NEI - Refute:\", adNEI_RFT2)\n",
    "print(\"Same Support:\",adSPT_SPT2)\n",
    "print(\"Same Refute:\",adRFT_RFT2)\n",
    "print(\"Support - Refute:\",adSPT_RFT2)\n",
    "print(\"Refute - Support:\",adRFT_SPT2)"
   ]
  },
  {
   "cell_type": "code",
   "execution_count": 521,
   "metadata": {},
   "outputs": [],
   "source": [
    "cadNEI_NEI2 = 0\n",
    "cadSPT_NEI2 = 0\n",
    "cadRFT_NEI2 = 0\n",
    "cadNEI_SPT2 = 0\n",
    "cadNEI_RFT2 = 0\n",
    "cadSPT_SPT2 = 0\n",
    "cadRFT_RFT2 = 0\n",
    "cadSPT_RFT2 = 0\n",
    "cadRFT_SPT2 = 0\n",
    "cadcombine_prediction2 = []\n",
    "for i in range(len(dcombine_prediction2)):\n",
    "    if adlabel[i] == 'NOT ENOUGH INFO' and dcombine_prediction2[i] == 'NOT ENOUGH INFO':\n",
    "        cadNEI_NEI2 += 1\n",
    "    elif adlabel[i] == 'SUPPORTS' and dcombine_prediction2[i] == 'NOT ENOUGH INFO':\n",
    "        cadSPT_NEI2 += 1\n",
    "    elif adlabel[i] == 'REFUTES' and dcombine_prediction2[i] == 'NOT ENOUGH INFO':\n",
    "        cadRFT_NEI2 += 1    \n",
    "    elif adlabel[i] == 'NOT ENOUGH INFO' and dcombine_prediction2[i] == 'SUPPORTS':\n",
    "        cadNEI_SPT2 += 1\n",
    "    elif adlabel[i] == 'NOT ENOUGH INFO' and dcombine_prediction2[i] == 'REFUTES':\n",
    "        cadNEI_RFT2 += 1\n",
    "    elif adlabel[i] == 'SUPPORTS' and dcombine_prediction2[i] == 'SUPPORTS':\n",
    "        cadSPT_SPT2 += 1   \n",
    "    elif adlabel[i] == 'REFUTES' and dcombine_prediction2[i] == 'REFUTES':\n",
    "        cadRFT_RFT2 += 1      \n",
    "    elif adlabel[i] == 'SUPPORTS' and dcombine_prediction2[i] == 'REFUTES':\n",
    "        cadSPT_RFT2 += 1   \n",
    "    elif adlabel[i] == 'REFUTES' and dcombine_prediction2[i] == 'SUPPORTS':\n",
    "        cadRFT_SPT2 += 1 "
   ]
  },
  {
   "cell_type": "code",
   "execution_count": 522,
   "metadata": {},
   "outputs": [
    {
     "name": "stdout",
     "output_type": "stream",
     "text": [
      "Same NEI: 767\n",
      "Support - NEI: 702\n",
      "Refute - NEI: 669\n",
      "NEI - Support: 536\n",
      "NEI - Refute: 364\n",
      "Same Support: 683\n",
      "Same Refute: 578\n",
      "Support - Refute: 282\n",
      "Refute - Support: 420\n"
     ]
    }
   ],
   "source": [
    "print(\"Same NEI:\",cadNEI_NEI2)\n",
    "print(\"Support - NEI:\",cadSPT_NEI2)\n",
    "print(\"Refute - NEI:\",cadRFT_NEI2)\n",
    "print(\"NEI - Support:\", cadNEI_SPT2)\n",
    "print(\"NEI - Refute:\", cadNEI_RFT2)\n",
    "print(\"Same Support:\",cadSPT_SPT2)\n",
    "print(\"Same Refute:\",cadRFT_RFT2)\n",
    "print(\"Support - Refute:\",cadSPT_RFT2)\n",
    "print(\"Refute - Support:\",cadRFT_SPT2)"
   ]
  },
  {
   "cell_type": "code",
   "execution_count": 523,
   "metadata": {},
   "outputs": [],
   "source": [
    "tadNEI_NEI2 = 0\n",
    "tadSPT_NEI2 = 0\n",
    "tadRFT_NEI2 = 0\n",
    "tadNEI_SPT2 = 0\n",
    "tadNEI_RFT2 = 0\n",
    "tadSPT_SPT2 = 0\n",
    "tadRFT_RFT2 = 0\n",
    "tadSPT_RFT2 = 0\n",
    "tadRFT_SPT2 = 0\n",
    "tadcombine_prediction2 = []\n",
    "for i in range(len(dcombine_prediction2)):\n",
    "    if adlabel[i] == 'NOT ENOUGH INFO' and dlabel[i] == 'NOT ENOUGH INFO':\n",
    "        tadNEI_NEI2 += 1\n",
    "    elif adlabel[i] == 'SUPPORTS' and dlabel[i] == 'NOT ENOUGH INFO':\n",
    "        tadSPT_NEI2 += 1\n",
    "    elif adlabel[i] == 'REFUTES' and dlabel[i] == 'NOT ENOUGH INFO':\n",
    "        tadRFT_NEI2 += 1    \n",
    "    elif adlabel[i] == 'NOT ENOUGH INFO' and dlabel[i] == 'SUPPORTS':\n",
    "        tadNEI_SPT2 += 1\n",
    "    elif adlabel[i] == 'NOT ENOUGH INFO' and dlabel[i] == 'REFUTES':\n",
    "        tadNEI_RFT2 += 1\n",
    "    elif adlabel[i] == 'SUPPORTS' and dlabel[i] == 'SUPPORTS':\n",
    "        tadSPT_SPT2 += 1   \n",
    "    elif adlabel[i] == 'REFUTES' and dlabel[i] == 'REFUTES':\n",
    "        tadRFT_RFT2 += 1      \n",
    "    elif adlabel[i] == 'SUPPORTS' and dlabel[i] == 'REFUTES':\n",
    "        tadSPT_RFT2 += 1   \n",
    "    elif adlabel[i] == 'REFUTES' and dlabel[i] == 'SUPPORTS':\n",
    "        tadRFT_SPT2 += 1 "
   ]
  },
  {
   "cell_type": "code",
   "execution_count": 524,
   "metadata": {},
   "outputs": [
    {
     "name": "stdout",
     "output_type": "stream",
     "text": [
      "Same NEI: 1055\n",
      "Support - NEI: 1019\n",
      "Refute - NEI: 1043\n",
      "NEI - Support: 339\n",
      "NEI - Refute: 273\n",
      "Same Support: 407\n",
      "Same Refute: 372\n",
      "Support - Refute: 241\n",
      "Refute - Support: 252\n"
     ]
    }
   ],
   "source": [
    "print(\"Same NEI:\",tadNEI_NEI2)\n",
    "print(\"Support - NEI:\",tadSPT_NEI2)\n",
    "print(\"Refute - NEI:\",tadRFT_NEI2)\n",
    "print(\"NEI - Support:\", tadNEI_SPT2)\n",
    "print(\"NEI - Refute:\", tadNEI_RFT2)\n",
    "print(\"Same Support:\",tadSPT_SPT2)\n",
    "print(\"Same Refute:\",tadRFT_RFT2)\n",
    "print(\"Support - Refute:\",tadSPT_RFT2)\n",
    "print(\"Refute - Support:\",tadRFT_SPT2)"
   ]
  },
  {
   "cell_type": "code",
   "execution_count": 529,
   "metadata": {},
   "outputs": [
    {
     "name": "stdout",
     "output_type": "stream",
     "text": [
      "0.4055188962207559\n"
     ]
    }
   ],
   "source": [
    "print(accuracy_score(adlabel,dcombine_prediction2))"
   ]
  },
  {
   "cell_type": "code",
   "execution_count": 530,
   "metadata": {},
   "outputs": [
    {
     "name": "stdout",
     "output_type": "stream",
     "text": [
      "                 precision    recall  f1-score   support\n",
      "\n",
      "NOT ENOUGH INFO       0.36      0.46      0.40      1667\n",
      "        REFUTES       0.47      0.35      0.40      1667\n",
      "       SUPPORTS       0.42      0.41      0.41      1667\n",
      "\n",
      "       accuracy                           0.41      5001\n",
      "      macro avg       0.42      0.41      0.41      5001\n",
      "   weighted avg       0.42      0.41      0.41      5001\n",
      "\n"
     ]
    }
   ],
   "source": [
    "print(classification_report(adlabel,dcombine_prediction2))"
   ]
  },
  {
   "cell_type": "code",
   "execution_count": 531,
   "metadata": {},
   "outputs": [
    {
     "name": "stdout",
     "output_type": "stream",
     "text": [
      "0.3667266546690662\n"
     ]
    }
   ],
   "source": [
    "print(accuracy_score(adlabel,dlabel))"
   ]
  },
  {
   "cell_type": "code",
   "execution_count": 532,
   "metadata": {},
   "outputs": [
    {
     "name": "stdout",
     "output_type": "stream",
     "text": [
      "                 precision    recall  f1-score   support\n",
      "\n",
      "NOT ENOUGH INFO       0.34      0.63      0.44      1667\n",
      "        REFUTES       0.42      0.22      0.29      1667\n",
      "       SUPPORTS       0.41      0.24      0.31      1667\n",
      "\n",
      "       accuracy                           0.37      5001\n",
      "      macro avg       0.39      0.37      0.35      5001\n",
      "   weighted avg       0.39      0.37      0.35      5001\n",
      "\n"
     ]
    }
   ],
   "source": [
    "print(classification_report(adlabel,dlabel))"
   ]
  },
  {
   "cell_type": "code",
   "execution_count": null,
   "metadata": {},
   "outputs": [],
   "source": [
    "dfeatures = defaultdict(Counter)\n",
    "dclaim_embed = dict()\n",
    "devidences_embed = dict()\n",
    "dconta_score = dict()\n",
    "dent_score = dict()\n",
    "dnut_core  = dict()\n",
    "dsimilarity_score = dict()\n",
    "dentity_similarity_score = dict()\n",
    "dnoun_similarity_score = dict()"
   ]
  },
  {
   "cell_type": "code",
   "execution_count": 534,
   "metadata": {},
   "outputs": [],
   "source": [
    "\n",
    "dev_claim_embed = []\n",
    "dev_evidences_embed = []\n",
    "\n",
    "for i in range(len(dsimilarity_score)):\n",
    "        dev_claim_embed.append(dclaim_embed[i])\n",
    "        dev_evidences_embed.append(devidences_embed[i])\n",
    "        \n",
    "dev_claim_embed_array = np.array(dev_claim_embed)\n",
    "dev_evidences_embed_array = np.array(dev_evidences_embed)\n"
   ]
  },
  {
   "cell_type": "code",
   "execution_count": 540,
   "metadata": {},
   "outputs": [],
   "source": [
    "dev_entity_similarity_score = []\n",
    "dev_noun_similarity_score = []\n",
    "dev_similarity_score = []\n",
    "\n",
    "for i in range(len(dsimilarity_score)):\n",
    "        dev_entity_similarity_score.append(dentity_similarity_score[i]) \n",
    "        dev_noun_similarity_score.append(dnoun_similarity_score[i])\n",
    "        dev_similarity_score.append(dsimilarity_score[i])   \n",
    "      "
   ]
  },
  {
   "cell_type": "code",
   "execution_count": 541,
   "metadata": {},
   "outputs": [],
   "source": [
    "dev_entity_similarity_score_array = np.array(dev_entity_similarity_score)\n",
    "dev_entity_similarity_score_array.resize((len(dev_entity_similarity_score_array), 1))\n",
    "dev_noun_similarity_score_array = np.array(dev_noun_similarity_score)\n",
    "dev_noun_similarity_score_array.resize((len(dev_noun_similarity_score_array), 1))\n",
    "dev_similarity_score_array = np.array(dev_similarity_score)\n",
    "dev_similarity_score_array.resize((len(dev_similarity_score_array), 1))\n"
   ]
  },
  {
   "cell_type": "code",
   "execution_count": 542,
   "metadata": {},
   "outputs": [],
   "source": [
    "dev_feature_combine = np.concatenate((dev_claim_embed_array,dev_evidences_embed_array), axis=1)\n",
    "dev_feature_combine = np.concatenate((dev_feature_combine,dev_entity_similarity_score_array), axis=1)\n",
    "dev_feature_combine = np.concatenate((dev_feature_combine,dev_noun_similarity_score_array), axis=1)\n",
    "dev_feature_combine = np.concatenate((dev_feature_combine,dev_similarity_score_array), axis=1)"
   ]
  },
  {
   "cell_type": "code",
   "execution_count": 543,
   "metadata": {},
   "outputs": [
    {
     "name": "stdout",
     "output_type": "stream",
     "text": [
      "0.4401119776044791\n",
      "{'NOT ENOUGH INFO': {'precision': 0.44036697247706424, 'recall': 0.057588482303539294, 'f1-score': 0.10185676392572944, 'support': 1667}, 'REFUTES': {'precision': 0.4365761430044689, 'recall': 0.7618476304739052, 'f1-score': 0.55506993006993, 'support': 1667}, 'SUPPORTS': {'precision': 0.4455709711846318, 'recall': 0.5008998200359928, 'f1-score': 0.4716181869528382, 'support': 1667}, 'accuracy': 0.4401119776044791, 'macro avg': {'precision': 0.44083802888872164, 'recall': 0.44011197760447907, 'f1-score': 0.3761816269828325, 'support': 5001}, 'weighted avg': {'precision': 0.4408380288887216, 'recall': 0.4401119776044791, 'f1-score': 0.37618162698283253, 'support': 5001}}\n"
     ]
    }
   ],
   "source": [
    "predictions_dev = MLPClassifier_300_undersampling.predict(dev_feature_combine)\n",
    "accuracy_dev = accuracy_score(adlabel,predictions_dev)\n",
    "results_dev = classification_report(adlabel,predictions_dev,  output_dict=True)\n",
    "\n",
    "print(accuracy_dev)\n",
    "print(results_dev)"
   ]
  },
  {
   "cell_type": "code",
   "execution_count": 544,
   "metadata": {
    "scrolled": true
   },
   "outputs": [
    {
     "data": {
      "text/plain": [
       "Counter({'REFUTES': 2909, 'SUPPORTS': 1874, 'NOT ENOUGH INFO': 218})"
      ]
     },
     "execution_count": 544,
     "metadata": {},
     "output_type": "execute_result"
    }
   ],
   "source": [
    "Counter(predictions_dev)"
   ]
  },
  {
   "cell_type": "code",
   "execution_count": 547,
   "metadata": {},
   "outputs": [
    {
     "name": "stdout",
     "output_type": "stream",
     "text": [
      "                 precision    recall  f1-score   support\n",
      "\n",
      "NOT ENOUGH INFO       0.44      0.06      0.10      1667\n",
      "        REFUTES       0.44      0.76      0.56      1667\n",
      "       SUPPORTS       0.45      0.50      0.47      1667\n",
      "\n",
      "       accuracy                           0.44      5001\n",
      "      macro avg       0.44      0.44      0.38      5001\n",
      "   weighted avg       0.44      0.44      0.38      5001\n",
      "\n"
     ]
    }
   ],
   "source": [
    "results_dev = classification_report(adlabel,predictions_dev)\n",
    "print(results_dev)"
   ]
  },
  {
   "cell_type": "code",
   "execution_count": null,
   "metadata": {},
   "outputs": [],
   "source": []
  }
 ],
 "metadata": {
  "kernelspec": {
   "display_name": "Python 3",
   "language": "python",
   "name": "python3"
  },
  "language_info": {
   "codemirror_mode": {
    "name": "ipython",
    "version": 3
   },
   "file_extension": ".py",
   "mimetype": "text/x-python",
   "name": "python",
   "nbconvert_exporter": "python",
   "pygments_lexer": "ipython3",
   "version": "3.7.2"
  }
 },
 "nbformat": 4,
 "nbformat_minor": 2
}
